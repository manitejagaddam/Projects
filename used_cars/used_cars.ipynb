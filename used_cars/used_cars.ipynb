{
 "cells": [
  {
   "cell_type": "code",
   "execution_count": 2,
   "metadata": {},
   "outputs": [],
   "source": [
    "import pandas as pd\n",
    "import numpy as np\n",
    "import matplotlib.pyplot as plt"
   ]
  },
  {
   "cell_type": "code",
   "execution_count": 218,
   "metadata": {},
   "outputs": [],
   "source": [
    "df = pd.read_csv(\"used_cars.xls\")"
   ]
  },
  {
   "cell_type": "code",
   "execution_count": 219,
   "metadata": {},
   "outputs": [
    {
     "data": {
      "text/html": [
       "<div>\n",
       "<style scoped>\n",
       "    .dataframe tbody tr th:only-of-type {\n",
       "        vertical-align: middle;\n",
       "    }\n",
       "\n",
       "    .dataframe tbody tr th {\n",
       "        vertical-align: top;\n",
       "    }\n",
       "\n",
       "    .dataframe thead th {\n",
       "        text-align: right;\n",
       "    }\n",
       "</style>\n",
       "<table border=\"1\" class=\"dataframe\">\n",
       "  <thead>\n",
       "    <tr style=\"text-align: right;\">\n",
       "      <th></th>\n",
       "      <th>brand</th>\n",
       "      <th>model</th>\n",
       "      <th>model_year</th>\n",
       "      <th>milage</th>\n",
       "      <th>fuel_type</th>\n",
       "      <th>engine</th>\n",
       "      <th>transmission</th>\n",
       "      <th>ext_col</th>\n",
       "      <th>int_col</th>\n",
       "      <th>accident</th>\n",
       "      <th>clean_title</th>\n",
       "      <th>price</th>\n",
       "    </tr>\n",
       "  </thead>\n",
       "  <tbody>\n",
       "    <tr>\n",
       "      <th>0</th>\n",
       "      <td>Ford</td>\n",
       "      <td>Utility Police Interceptor Base</td>\n",
       "      <td>2013</td>\n",
       "      <td>51,000 mi.</td>\n",
       "      <td>E85 Flex Fuel</td>\n",
       "      <td>300.0HP 3.7L V6 Cylinder Engine Flex Fuel Capa...</td>\n",
       "      <td>6-Speed A/T</td>\n",
       "      <td>Black</td>\n",
       "      <td>Black</td>\n",
       "      <td>At least 1 accident or damage reported</td>\n",
       "      <td>Yes</td>\n",
       "      <td>$10,300</td>\n",
       "    </tr>\n",
       "    <tr>\n",
       "      <th>1</th>\n",
       "      <td>Hyundai</td>\n",
       "      <td>Palisade SEL</td>\n",
       "      <td>2021</td>\n",
       "      <td>34,742 mi.</td>\n",
       "      <td>Gasoline</td>\n",
       "      <td>3.8L V6 24V GDI DOHC</td>\n",
       "      <td>8-Speed Automatic</td>\n",
       "      <td>Moonlight Cloud</td>\n",
       "      <td>Gray</td>\n",
       "      <td>At least 1 accident or damage reported</td>\n",
       "      <td>Yes</td>\n",
       "      <td>$38,005</td>\n",
       "    </tr>\n",
       "    <tr>\n",
       "      <th>2</th>\n",
       "      <td>Lexus</td>\n",
       "      <td>RX 350 RX 350</td>\n",
       "      <td>2022</td>\n",
       "      <td>22,372 mi.</td>\n",
       "      <td>Gasoline</td>\n",
       "      <td>3.5 Liter DOHC</td>\n",
       "      <td>Automatic</td>\n",
       "      <td>Blue</td>\n",
       "      <td>Black</td>\n",
       "      <td>None reported</td>\n",
       "      <td>NaN</td>\n",
       "      <td>$54,598</td>\n",
       "    </tr>\n",
       "    <tr>\n",
       "      <th>3</th>\n",
       "      <td>INFINITI</td>\n",
       "      <td>Q50 Hybrid Sport</td>\n",
       "      <td>2015</td>\n",
       "      <td>88,900 mi.</td>\n",
       "      <td>Hybrid</td>\n",
       "      <td>354.0HP 3.5L V6 Cylinder Engine Gas/Electric H...</td>\n",
       "      <td>7-Speed A/T</td>\n",
       "      <td>Black</td>\n",
       "      <td>Black</td>\n",
       "      <td>None reported</td>\n",
       "      <td>Yes</td>\n",
       "      <td>$15,500</td>\n",
       "    </tr>\n",
       "    <tr>\n",
       "      <th>4</th>\n",
       "      <td>Audi</td>\n",
       "      <td>Q3 45 S line Premium Plus</td>\n",
       "      <td>2021</td>\n",
       "      <td>9,835 mi.</td>\n",
       "      <td>Gasoline</td>\n",
       "      <td>2.0L I4 16V GDI DOHC Turbo</td>\n",
       "      <td>8-Speed Automatic</td>\n",
       "      <td>Glacier White Metallic</td>\n",
       "      <td>Black</td>\n",
       "      <td>None reported</td>\n",
       "      <td>NaN</td>\n",
       "      <td>$34,999</td>\n",
       "    </tr>\n",
       "  </tbody>\n",
       "</table>\n",
       "</div>"
      ],
      "text/plain": [
       "      brand                            model  model_year      milage  \\\n",
       "0      Ford  Utility Police Interceptor Base        2013  51,000 mi.   \n",
       "1   Hyundai                     Palisade SEL        2021  34,742 mi.   \n",
       "2     Lexus                    RX 350 RX 350        2022  22,372 mi.   \n",
       "3  INFINITI                 Q50 Hybrid Sport        2015  88,900 mi.   \n",
       "4      Audi        Q3 45 S line Premium Plus        2021   9,835 mi.   \n",
       "\n",
       "       fuel_type                                             engine  \\\n",
       "0  E85 Flex Fuel  300.0HP 3.7L V6 Cylinder Engine Flex Fuel Capa...   \n",
       "1       Gasoline                               3.8L V6 24V GDI DOHC   \n",
       "2       Gasoline                                     3.5 Liter DOHC   \n",
       "3         Hybrid  354.0HP 3.5L V6 Cylinder Engine Gas/Electric H...   \n",
       "4       Gasoline                         2.0L I4 16V GDI DOHC Turbo   \n",
       "\n",
       "        transmission                 ext_col int_col  \\\n",
       "0        6-Speed A/T                   Black   Black   \n",
       "1  8-Speed Automatic         Moonlight Cloud    Gray   \n",
       "2          Automatic                    Blue   Black   \n",
       "3        7-Speed A/T                   Black   Black   \n",
       "4  8-Speed Automatic  Glacier White Metallic   Black   \n",
       "\n",
       "                                 accident clean_title    price  \n",
       "0  At least 1 accident or damage reported         Yes  $10,300  \n",
       "1  At least 1 accident or damage reported         Yes  $38,005  \n",
       "2                           None reported         NaN  $54,598  \n",
       "3                           None reported         Yes  $15,500  \n",
       "4                           None reported         NaN  $34,999  "
      ]
     },
     "execution_count": 219,
     "metadata": {},
     "output_type": "execute_result"
    }
   ],
   "source": [
    "df.head()"
   ]
  },
  {
   "cell_type": "code",
   "execution_count": 220,
   "metadata": {},
   "outputs": [],
   "source": [
    "df1 = df.copy()"
   ]
  },
  {
   "cell_type": "code",
   "execution_count": 221,
   "metadata": {},
   "outputs": [
    {
     "data": {
      "text/plain": [
       "(4009, 12)"
      ]
     },
     "execution_count": 221,
     "metadata": {},
     "output_type": "execute_result"
    }
   ],
   "source": [
    "df.shape"
   ]
  },
  {
   "cell_type": "code",
   "execution_count": 222,
   "metadata": {},
   "outputs": [],
   "source": [
    "columns = list(df.columns)"
   ]
  },
  {
   "cell_type": "code",
   "execution_count": 223,
   "metadata": {},
   "outputs": [
    {
     "data": {
      "text/plain": [
       "'price'"
      ]
     },
     "execution_count": 223,
     "metadata": {},
     "output_type": "execute_result"
    }
   ],
   "source": [
    "columns.pop()"
   ]
  },
  {
   "cell_type": "code",
   "execution_count": 224,
   "metadata": {},
   "outputs": [],
   "source": [
    "def unique_values(columns):\n",
    "    for column in columns:\n",
    "        print(f\"Unique Values of {column}:- \\n {df[column].unique()} \\n \\n\")\n",
    "        print(f\"Number of Unique Values of {column}:- {df[column].nunique()}\")\n",
    "        print(\"----------------------------------------------------------------------------\")"
   ]
  },
  {
   "cell_type": "code",
   "execution_count": 225,
   "metadata": {},
   "outputs": [
    {
     "name": "stdout",
     "output_type": "stream",
     "text": [
      "Unique Values of brand:- \n",
      " ['Ford' 'Hyundai' 'Lexus' 'INFINITI' 'Audi' 'Acura' 'BMW' 'Tesla' 'Land'\n",
      " 'Aston' 'Toyota' 'Lincoln' 'Jaguar' 'Mercedes-Benz' 'Dodge' 'Nissan'\n",
      " 'Genesis' 'Chevrolet' 'Kia' 'Jeep' 'Bentley' 'Honda' 'Lucid' 'MINI'\n",
      " 'Porsche' 'Hummer' 'Chrysler' 'Volvo' 'Cadillac' 'Lamborghini' 'Maserati'\n",
      " 'Volkswagen' 'Subaru' 'Rivian' 'GMC' 'RAM' 'Alfa' 'Ferrari' 'Scion'\n",
      " 'Mitsubishi' 'Mazda' 'Saturn' 'Bugatti' 'Polestar' 'Rolls-Royce'\n",
      " 'McLaren' 'Buick' 'Lotus' 'Pontiac' 'FIAT' 'Karma' 'Saab' 'Mercury'\n",
      " 'Plymouth' 'smart' 'Maybach' 'Suzuki'] \n",
      " \n",
      "\n",
      "Number of Unique Values of brand:- 57\n",
      "----------------------------------------------------------------------------\n",
      "Unique Values of model:- \n",
      " ['Utility Police Interceptor Base' 'Palisade SEL' 'RX 350 RX 350' ...\n",
      " 'Martin DB7 Vantage Volante' 'Impala 2LZ' 'Taycan'] \n",
      " \n",
      "\n",
      "Number of Unique Values of model:- 1898\n",
      "----------------------------------------------------------------------------\n",
      "Unique Values of model_year:- \n",
      " [2013 2021 2022 2015 2016 2017 2001 2020 2019 2003 2018 2023 2000 2006\n",
      " 2011 2012 2007 2014 2005 2009 2010 2004 2008 1997 1999 1993 2002 1998\n",
      " 2024 1996 1974 1992 1995 1994] \n",
      " \n",
      "\n",
      "Number of Unique Values of model_year:- 34\n",
      "----------------------------------------------------------------------------\n",
      "Unique Values of milage:- \n",
      " ['51,000 mi.' '34,742 mi.' '22,372 mi.' ... '53,705 mi.' '714 mi.'\n",
      " '2,116 mi.'] \n",
      " \n",
      "\n",
      "Number of Unique Values of milage:- 2818\n",
      "----------------------------------------------------------------------------\n",
      "Unique Values of fuel_type:- \n",
      " ['E85 Flex Fuel' 'Gasoline' 'Hybrid' nan 'Diesel' 'Plug-In Hybrid' '–'\n",
      " 'not supported'] \n",
      " \n",
      "\n",
      "Number of Unique Values of fuel_type:- 7\n",
      "----------------------------------------------------------------------------\n",
      "Unique Values of engine:- \n",
      " ['300.0HP 3.7L V6 Cylinder Engine Flex Fuel Capability'\n",
      " '3.8L V6 24V GDI DOHC' '3.5 Liter DOHC' ...\n",
      " '136.0HP 1.8L 4 Cylinder Engine Gasoline Fuel'\n",
      " '270.0HP 2.0L 4 Cylinder Engine Gasoline Fuel'\n",
      " '420.0HP 5.9L 12 Cylinder Engine Gasoline Fuel'] \n",
      " \n",
      "\n",
      "Number of Unique Values of engine:- 1146\n",
      "----------------------------------------------------------------------------\n",
      "Unique Values of transmission:- \n",
      " ['6-Speed A/T' '8-Speed Automatic' 'Automatic' '7-Speed A/T' 'F' 'A/T'\n",
      " '8-Speed A/T' 'Transmission w/Dual Shift Mode' '9-Speed Automatic'\n",
      " '6-Speed M/T' '10-Speed A/T' '9-Speed A/T' '5-Speed A/T' '1-Speed A/T'\n",
      " 'Automatic CVT' '7-Speed Automatic with Auto-Shift' 'CVT-F' 'M/T'\n",
      " '6-Speed Automatic with Auto-Shift' '10-Speed Automatic'\n",
      " 'CVT Transmission' '4-Speed A/T' '6-Speed Automatic' '4-Speed Automatic'\n",
      " '7-Speed M/T' '8-Speed Automatic with Auto-Shift' '5-Speed Automatic'\n",
      " '8-SPEED AT' '1-Speed Automatic' '5-Speed M/T' 'Manual' '6-Speed Manual'\n",
      " 'Variable' '2' '7-Speed Manual' 'Automatic, 9-Spd 9G-Tronic'\n",
      " 'Automatic, 8-Spd' 'Automatic, 8-Spd Sport w/Sport & Manual Modes' '–'\n",
      " 'Auto, 6-Spd w/CmdShft' 'Transmission Overdrive Switch'\n",
      " '7-Speed Automatic' 'Automatic, 8-Spd PDK Dual-Clutch'\n",
      " 'Automatic, 8-Spd M STEPTRONIC w/Drivelogic, Sport & Manual Modes'\n",
      " 'Automatic, 8-Spd Dual-Clutch' '6-Speed' 'Single-Speed Fixed Gear'\n",
      " 'Automatic, 10-Spd' '2-Speed Automatic' '7-Speed'\n",
      " 'Automatic, 7-Spd S tronic Dual-Clutch' 'Manual, 6-Spd'\n",
      " '6-Speed Electronically Controlled Automatic with O' '6 Speed At/Mt'\n",
      " '8-SPEED A/T' '10-Speed Automatic with Overdrive' '7-Speed DCT Automatic'\n",
      " '9-Speed Automatic with Auto-Shift' 'SCHEDULED FOR OR IN PRODUCTION'\n",
      " '2-Speed A/T' '6 Speed Mt' '8-Speed Manual'] \n",
      " \n",
      "\n",
      "Number of Unique Values of transmission:- 62\n",
      "----------------------------------------------------------------------------\n",
      "Unique Values of ext_col:- \n",
      " ['Black' 'Moonlight Cloud' 'Blue' 'Glacier White Metallic' 'Silver'\n",
      " 'Green' 'Fuji White' 'Yellow' 'White' 'Gray' 'Purple'\n",
      " 'Iconic Silver Metallic' 'Mythos Black Metallic' 'Red' 'Gold'\n",
      " 'Lunar Silver Metallic' 'Mountain Air Metallic' 'Caspian Blue'\n",
      " 'Tango Red Metallic' '–' 'Alpine White' 'BLU ELEOS' 'Horizon Blue'\n",
      " 'Granite Crystal Clearcoat Metallic' 'Orange' 'Beige' 'Rift Metallic'\n",
      " 'Atomic Silver' 'Summit White' 'Imperial Blue Metallic'\n",
      " 'Magnetic Gray Clearcoat' 'Bright White Clearcoat' 'Typhoon Gray'\n",
      " 'Crystal Black Silica' 'Arctic Gray Metallic' 'Selenite Grey Metallic'\n",
      " 'Ultra Black' 'Lunare White Metallic' 'Hyper Red'\n",
      " 'Daytona Gray Pearl Effect' 'Vik Black' 'Pacific Blue Metallic'\n",
      " 'Obsidian Black Metallic' 'Silver Ice Metallic' 'Sonic Silver Metallic'\n",
      " 'Nightfall Mica' 'Apex Blue' 'Go Mango!' 'Ingot Silver Metallic'\n",
      " 'Midnight Black Metallic' 'Black Clearcoat' 'Thunder Gray'\n",
      " 'Bianco Monocerus' 'Verde' 'Wind Chill Pearl' 'Mythos Black'\n",
      " 'Patriot Blue Pearlcoat' 'Black Cherry' 'Yulong White'\n",
      " 'Donington Grey Metallic' 'Ruby Red Metallic Tinted Clearcoat'\n",
      " 'Platinum Quartz Metallic' 'Matador Red Metallic' 'Blu'\n",
      " 'Mosaic Black Metallic' 'Jungle Green' 'BLACK' 'Deep Crystal Blue Mica'\n",
      " 'Beluga Black' 'Eiger Grey' 'Ebony Black' 'Brown' 'Indus Silver'\n",
      " 'Ibis White' 'Bianco Icarus Metallic' 'Infrared Tintcoat'\n",
      " 'Midnight Black' 'Phytonic Blue Metallic' 'Quartz White'\n",
      " 'Rapid Red Metallic Tinted Clearcoat' 'Cobra Beige Metallic' 'Pure White'\n",
      " 'Snow White Pearl' 'DB Black Clearcoat' 'Firenze Red Metallic'\n",
      " 'Anodized Blue Metallic' 'MANUFAKTUR Diamond White Bright'\n",
      " 'Santorin Black' 'Glacier' 'Delmonico Red Pearlcoat' 'Brilliant Black'\n",
      " 'Magnetite Black Metallic' 'Carpathian Grey Premium Metallic'\n",
      " 'Majestic Black Pearl' 'Northsky Blue Metallic' 'Baltic Gray'\n",
      " 'Machine Gray Metallic' 'Twilight Black' 'Pearl White' 'Diamond Black'\n",
      " 'Maroon' 'Firecracker Red Clearcoat' 'Oxford White' 'Glacier White'\n",
      " 'Flame Red Clearcoat' 'White Clearcoat' 'Ice' 'Silver Zynith'\n",
      " 'Silky Silver' 'Ametrin Metallic' 'Deep Black Pearl Effect'\n",
      " 'Shimmering Silver' 'Gecko Pearlcoat' 'Onyx' 'Rosso Mars Metallic'\n",
      " 'Shoreline Blue Pearl' 'Santorini Black'\n",
      " 'White Platinum Tri-Coat Metallic' 'Sparkling Silver' 'Chalk' 'BLUE'\n",
      " 'Dazzling White' 'Santorini Black Metallic' 'Selenite Gray Metallic'\n",
      " 'Metallic' 'Ebony Twilight Metallic' 'Polymetal Gray Metallic'\n",
      " 'Oryx White Prl' 'Black Forest Green' 'Gun Metallic' 'Jet Black Mica'\n",
      " 'Dark Gray Metallic' 'Firenze Red' 'Glacial White Pearl'\n",
      " 'designo Diamond White Metallic' 'Blue Metallic'\n",
      " 'Isle of Man Green Metallic' 'Black Noir Pearl' 'Volcano Grey Metallic'\n",
      " 'Soul Red Crystal Metallic' 'Dark Moss' 'Passion Red'\n",
      " 'Typhoon Gray Metallic' 'Onyx Black' 'Redline Red'\n",
      " 'Navarra Blue Metallic' 'Brands Hatch Gray Metallic'\n",
      " 'Daytona Gray Pearl Effect w/ Black Roof' 'Hampton Gray' 'Ultra White'\n",
      " 'Hydro Blue Pearlcoat' 'Sandstone Metallic' 'Portofino Blue Metallic'\n",
      " 'Sangria Red' 'Magnetic Metallic' 'Tan' 'Platinum White Pearl'\n",
      " 'designo Diamond White' 'Anthracite Blue Metallic' 'Velvet Red Pearlcoat'\n",
      " 'Silver Mist' 'Antimatter Blue Metallic' 'Cirrus Silver Metallic' 'Pink'\n",
      " 'Cayenne Red Tintcoat' 'Garnet Red Metallic' 'Black Obsidian'\n",
      " 'Pristine White' 'Nebula Gray Pearl' 'Super White'\n",
      " 'Gentian Blue Metallic' 'Midnight Blue Metallic' 'Yulong' 'Rosso Corsa'\n",
      " 'Matte White' 'Navarra Blue' 'Silver Radiance' 'Iridium Metallic'\n",
      " 'Magnetic Black' 'Chronos Gray Metallic' 'Pacific Blue'\n",
      " 'Eiger Grey Metallic' 'White Diamond Tri-Coat' 'Stormy Sea'\n",
      " 'Dark Matter Metallic' 'Billet Clearcoat Metallic'\n",
      " 'Brilliant Silver Metallic' 'Liquid Platinum' 'Vulcano Black Metallic'\n",
      " 'Diamond White' 'White Frost Tri-Coat' 'Aventurine Green Metallic'\n",
      " 'Tempest' 'Alfa White' 'Star White' 'Titanium Silver' 'Caviar'\n",
      " 'Kodiak Brown Metallic' 'Majestic Plum Metallic' 'Navarre Blue'\n",
      " 'Bronze Dune Metallic' 'Radiant Red Metallic II'\n",
      " 'Dark Moon Blue Metallic' 'Manhattan Noir Metallic'\n",
      " 'Agate Black Metallic' 'Frozen White' 'Bianco Isis'\n",
      " 'Phantom Black Pearl Effect / Black Roof' 'Kemora Gray Metallic'\n",
      " 'Shadow Black' 'Graphite Grey Metallic' 'Emerald Green Metallic'\n",
      " 'Orca Black Metallic' 'Chronos Gray' 'Daytona Gray'\n",
      " 'Billet Silver Metallic Clearcoat' 'Sting Gray Clearcoat'\n",
      " 'Maximum Steel Metallic' 'Carbonized Gray Metallic' 'Ruby Flare Pearl'\n",
      " 'Crimson Red Tintcoat' 'Blueprint' 'Balloon White'\n",
      " 'Snowflake White Pearl' 'Crystal White Pearl' 'Quicksilver Metallic'\n",
      " 'Dark Sapphire' 'Carbon Black Metallic' 'Sunset Drift Chromaflair'\n",
      " 'Shadow Gray Metallic' 'Granite' 'Frozen Dark Silver Metallic'\n",
      " 'Black Sapphire Metallic' 'Quartz Blue Pearl' 'Iridescent Pearl Tricoat'\n",
      " 'Satin Steel Metallic' 'Aurora Black' 'Black Raven' 'Florett Silver'\n",
      " 'Cajun Red Tintcoat' 'Nero Daytona' 'Red Multi' 'Dark Ash Metallic'\n",
      " 'Rich Garnet Metallic' 'Nero Noctis' 'Scarlet Ember' 'Blue Reflex Mica'\n",
      " 'Snowflake White Pearl Metallic' 'Grigio Nimbus'\n",
      " 'Granite Crystal Metallic Clearcoat' 'Stellar Black Metallic'\n",
      " 'Dark Slate Metallic' 'Vega Blue' 'Stone Gray Metallic'\n",
      " 'Matador Red Mica' 'Barcelona Red' 'Bayside Blue' 'Tungsten Metallic'\n",
      " 'Mineral White' 'Siren Red Tintcoat' 'Octane Red Pearlcoat' 'Wolf Gray'\n",
      " 'Fountain Blue' 'Obsidian' 'Volcanic Orange' 'Dark Graphite Metallic'\n",
      " 'Designo Magno Matte' 'Phantom Black' 'Crystal Black'\n",
      " 'Red Quartz Tintcoat' 'Carrara White Metallic' 'Blue Caelum'\n",
      " 'designo Diamond White Bright' 'Iridium Silver Metallic'\n",
      " 'Mango Tango Pearlcoat' 'GT SILVER' 'Crystal Black Pearl'\n",
      " 'Eminent White Pearl' 'Lunar Blue Metallic' 'Magnetic Gray Metallic'\n",
      " 'Arctic White' 'Silver Flare Metallic' 'Emin White' 'Custom Color'\n",
      " 'Ember Pearlcoat' 'Twilight Blue Metallic' 'Burnished Bronze Metallic'\n",
      " 'Ice Silver Metallic' 'Magnetite Gray Metallic' 'Jupiter Red'\n",
      " 'Midnight Silver Metallic' 'Hellayella Clearcoat' 'Ironman Silver'\n",
      " 'Alta White' 'Python Green' 'China Blue' 'Portofino Gray'\n",
      " 'White Knuckle Clearcoat' 'Nautical Blue Pearl' 'Silician Yellow'\n",
      " 'Arancio Borealis' 'Rosso' 'Graphite Grey' 'Lizard Green' 'Super Black'\n",
      " 'Kinetic Blue' 'Electric Blue Metallic' 'Glacier Blue Metallic'\n",
      " 'Red Obsession' 'Platinum Gray Metallic' 'Remington Red Metallic'\n",
      " 'Reflex Silver' 'Deep Blue Metallic' 'Glacier Silver Metallic'\n",
      " 'Carpathian Grey' 'Nightfall Gray Metallic' 'Lunar Rock'\n",
      " 'Quartzite Grey Metallic' 'C / C'] \n",
      " \n",
      "\n",
      "Number of Unique Values of ext_col:- 319\n",
      "----------------------------------------------------------------------------\n",
      "Unique Values of int_col:- \n",
      " ['Black' 'Gray' 'Ebony.' 'Green' 'Pimento / Ebony' 'Brown' 'White' '–'\n",
      " 'Beige' 'Jet Black' 'Light Gray' 'Anthracite' 'Red' 'Nero Ade' 'Blue'\n",
      " 'Charcoal' 'Rioja Red' 'Canberra Beige/Black' 'Roast' 'Ivory / Ebony'\n",
      " 'Silk Beige/Black' 'Medium Pewter' 'Ice' 'Black / Express Red'\n",
      " 'Obsidian Black' 'Ebony' 'Orange' 'Caramel' 'Orchid' 'Graphite'\n",
      " 'Tan/Ebony' 'Cappuccino' 'Nero' 'Sahara Tan' 'BLACK' 'Hotspur' 'Blk'\n",
      " 'Black Onyx' 'Nougat Brown' 'Titan Black' 'Oyster W/Contrast' 'Silver'\n",
      " 'Macchiato Beige/Black' 'Sand Beige' 'Navy Pier' 'WHITE' 'Parchment.'\n",
      " 'Sarder Brown' 'Grace White' 'Cloud' 'Espresso' 'Mesa' 'Whisper Beige'\n",
      " 'Medium Dark Slate' 'Gold' 'Camel Leather' 'Tupelo' 'Black/Red'\n",
      " 'Parchment' 'Beluga Hide' 'Charles Blue' 'Global Black'\n",
      " 'Titan Black / Quarzit' 'Mocha' 'Portland' 'Medium Light Camel'\n",
      " 'Black / Saddle' 'Ash' 'Ebony / Pimento' 'Tan' 'Mistral Gray / Raven'\n",
      " 'Graystone' 'Satin Black' 'Sandstone' 'Medium Stone' 'ORANGE'\n",
      " 'Pimento Red w/Ebony' 'Macchiato' 'Ebony Black' 'Pearl Beige'\n",
      " 'Sakhir Orange' 'Kyalami Orange' 'Almond Beige' 'Medium Earth Gray'\n",
      " 'Diesel Gray / Black' 'Boulder' 'Walnut' 'Charcoal Black' 'Dark Auburn'\n",
      " 'Tan/Ebony/Ebony' 'Amber' 'Silk Beige/Espresso Brown' 'Black / Brown'\n",
      " 'Sakhir Orange/Black' 'Black / Stone Grey' 'AMG Black' 'Slate' 'BEIGE'\n",
      " 'Canberra Beige' 'Magma Red' 'Saiga Beige' 'Saddle Brown'\n",
      " 'Light Titanium' 'Dark Gray' 'Platinum' 'Ebony/Light Oyster Stitch'\n",
      " 'Shale' 'Red/Black' 'Agave Green' 'Cobalt Blue' 'Deep Cypress' 'Ceramic'\n",
      " 'Camel' 'Rhapsody Blue' 'Light Platinum / Jet Black' 'Shara Beige'\n",
      " 'Dark Galvanized' 'Giallo Taurus / Nero Ade' 'Yellow'\n",
      " 'Black w/Red Stitching' 'Black/Saddle Brown' 'Light Slate'\n",
      " 'Black/Gun Metal' 'White / Brown' 'Brandy' 'Mountain Brown' 'Linen'\n",
      " 'Porpoise' 'Aragon Brown' 'Oyster/Black' 'Gideon' 'Chestnut'\n",
      " 'Red / Black' 'Bianco Polar' 'Deep Garnet' 'Dark Ash'\n",
      " 'Ebony / Ebony Accents' 'Rock Gray' 'Cocoa / Dune' 'Beluga'\n",
      " 'Carbon Black' 'Sport' 'Medium Ash Gray' 'Black/Graphite'\n",
      " 'Macchiato/Magmagrey' 'Classic Red' 'Chateau' 'Graphite w/Gun Metal'\n",
      " 'Tension' 'Adrenaline Red' 'Hotspur Hide' 'Gray w/Blue Bolsters'\n",
      " 'Very Light Cashmere' 'Black / Gray' 'Deep Chestnut' 'Black / Graphite'] \n",
      " \n",
      "\n",
      "Number of Unique Values of int_col:- 156\n",
      "----------------------------------------------------------------------------\n",
      "Unique Values of accident:- \n",
      " ['At least 1 accident or damage reported' 'None reported' nan] \n",
      " \n",
      "\n",
      "Number of Unique Values of accident:- 2\n",
      "----------------------------------------------------------------------------\n",
      "Unique Values of clean_title:- \n",
      " ['Yes' nan] \n",
      " \n",
      "\n",
      "Number of Unique Values of clean_title:- 1\n",
      "----------------------------------------------------------------------------\n"
     ]
    }
   ],
   "source": [
    "unique_values(columns)"
   ]
  },
  {
   "cell_type": "code",
   "execution_count": 226,
   "metadata": {},
   "outputs": [],
   "source": [
    "def number_unique_values(columns):\n",
    "    for i in columns:\n",
    "        print(f\"{i} -- {df[i].nunique()}\")"
   ]
  },
  {
   "cell_type": "code",
   "execution_count": 227,
   "metadata": {},
   "outputs": [
    {
     "name": "stdout",
     "output_type": "stream",
     "text": [
      "brand -- 57\n",
      "model -- 1898\n",
      "model_year -- 34\n",
      "milage -- 2818\n",
      "fuel_type -- 7\n",
      "engine -- 1146\n",
      "transmission -- 62\n",
      "ext_col -- 319\n",
      "int_col -- 156\n",
      "accident -- 2\n",
      "clean_title -- 1\n"
     ]
    }
   ],
   "source": [
    "number_unique_values(columns)"
   ]
  },
  {
   "cell_type": "code",
   "execution_count": 228,
   "metadata": {},
   "outputs": [
    {
     "data": {
      "text/plain": [
       "879"
      ]
     },
     "execution_count": 228,
     "metadata": {},
     "output_type": "execute_result"
    }
   ],
   "source": [
    "df.isnull().sum().sum()"
   ]
  },
  {
   "cell_type": "code",
   "execution_count": 229,
   "metadata": {},
   "outputs": [
    {
     "data": {
      "text/plain": [
       "brand             0\n",
       "model             0\n",
       "model_year        0\n",
       "milage            0\n",
       "fuel_type       170\n",
       "engine            0\n",
       "transmission      0\n",
       "ext_col           0\n",
       "int_col           0\n",
       "accident        113\n",
       "clean_title     596\n",
       "price             0\n",
       "dtype: int64"
      ]
     },
     "execution_count": 229,
     "metadata": {},
     "output_type": "execute_result"
    }
   ],
   "source": [
    "df.isnull().sum()"
   ]
  },
  {
   "cell_type": "code",
   "execution_count": 230,
   "metadata": {},
   "outputs": [
    {
     "data": {
      "text/plain": [
       "brand            0.000000\n",
       "model            0.000000\n",
       "model_year       0.000000\n",
       "milage           0.000000\n",
       "fuel_type        4.240459\n",
       "engine           0.000000\n",
       "transmission     0.000000\n",
       "ext_col          0.000000\n",
       "int_col          0.000000\n",
       "accident         2.818658\n",
       "clean_title     14.866550\n",
       "price            0.000000\n",
       "dtype: float64"
      ]
     },
     "execution_count": 230,
     "metadata": {},
     "output_type": "execute_result"
    }
   ],
   "source": [
    "df.isnull().sum()/ df.shape[0] * 100"
   ]
  },
  {
   "cell_type": "markdown",
   "metadata": {},
   "source": [
    "# MCAR : Missing at completletly at random\n",
    "\n",
    "- if mcar is less than 5 percentage we can drop the values from our data because 5 percentage of the data dont play that much amout of importance in making a fine model instaed of filling with another value we can simply drop the values."
   ]
  },
  {
   "cell_type": "code",
   "execution_count": 231,
   "metadata": {},
   "outputs": [
    {
     "data": {
      "text/plain": [
       "array(['At least 1 accident or damage reported', 'None reported', nan],\n",
       "      dtype=object)"
      ]
     },
     "execution_count": 231,
     "metadata": {},
     "output_type": "execute_result"
    }
   ],
   "source": [
    "df['accident'].unique()"
   ]
  },
  {
   "cell_type": "code",
   "execution_count": 232,
   "metadata": {},
   "outputs": [
    {
     "data": {
      "text/html": [
       "<div>\n",
       "<style scoped>\n",
       "    .dataframe tbody tr th:only-of-type {\n",
       "        vertical-align: middle;\n",
       "    }\n",
       "\n",
       "    .dataframe tbody tr th {\n",
       "        vertical-align: top;\n",
       "    }\n",
       "\n",
       "    .dataframe thead th {\n",
       "        text-align: right;\n",
       "    }\n",
       "</style>\n",
       "<table border=\"1\" class=\"dataframe\">\n",
       "  <thead>\n",
       "    <tr style=\"text-align: right;\">\n",
       "      <th></th>\n",
       "      <th>brand</th>\n",
       "      <th>model</th>\n",
       "      <th>model_year</th>\n",
       "      <th>milage</th>\n",
       "      <th>fuel_type</th>\n",
       "      <th>engine</th>\n",
       "      <th>transmission</th>\n",
       "      <th>ext_col</th>\n",
       "      <th>int_col</th>\n",
       "      <th>accident</th>\n",
       "      <th>clean_title</th>\n",
       "      <th>price</th>\n",
       "    </tr>\n",
       "  </thead>\n",
       "  <tbody>\n",
       "    <tr>\n",
       "      <th>20</th>\n",
       "      <td>Genesis</td>\n",
       "      <td>GV70 3.5T Sport</td>\n",
       "      <td>2023</td>\n",
       "      <td>5,400 mi.</td>\n",
       "      <td>Gasoline</td>\n",
       "      <td>375.0HP 3.5L V6 Cylinder Engine Gasoline Fuel</td>\n",
       "      <td>8-Speed A/T</td>\n",
       "      <td>Green</td>\n",
       "      <td>Beige</td>\n",
       "      <td>NaN</td>\n",
       "      <td>NaN</td>\n",
       "      <td>$60,000</td>\n",
       "    </tr>\n",
       "    <tr>\n",
       "      <th>89</th>\n",
       "      <td>Subaru</td>\n",
       "      <td>Forester 2.5 X</td>\n",
       "      <td>2004</td>\n",
       "      <td>210,703 mi.</td>\n",
       "      <td>Gasoline</td>\n",
       "      <td>165.0HP 2.5L 4 Cylinder Engine Gasoline Fuel</td>\n",
       "      <td>M/T</td>\n",
       "      <td>Green</td>\n",
       "      <td>Beige</td>\n",
       "      <td>NaN</td>\n",
       "      <td>NaN</td>\n",
       "      <td>$2,300</td>\n",
       "    </tr>\n",
       "    <tr>\n",
       "      <th>128</th>\n",
       "      <td>Audi</td>\n",
       "      <td>Q7 3.0T Premium Plus</td>\n",
       "      <td>2015</td>\n",
       "      <td>98,527 mi.</td>\n",
       "      <td>Gasoline</td>\n",
       "      <td>280.0HP 3.0L V6 Cylinder Engine Gasoline Fuel</td>\n",
       "      <td>8-Speed A/T</td>\n",
       "      <td>Black</td>\n",
       "      <td>Black</td>\n",
       "      <td>NaN</td>\n",
       "      <td>NaN</td>\n",
       "      <td>$9,995</td>\n",
       "    </tr>\n",
       "    <tr>\n",
       "      <th>129</th>\n",
       "      <td>Lucid</td>\n",
       "      <td>Air Pure</td>\n",
       "      <td>2023</td>\n",
       "      <td>1,300 mi.</td>\n",
       "      <td>NaN</td>\n",
       "      <td>620.0HP Electric Motor Electric Fuel System</td>\n",
       "      <td>A/T</td>\n",
       "      <td>Black</td>\n",
       "      <td>Gray</td>\n",
       "      <td>NaN</td>\n",
       "      <td>NaN</td>\n",
       "      <td>$86,900</td>\n",
       "    </tr>\n",
       "    <tr>\n",
       "      <th>131</th>\n",
       "      <td>Audi</td>\n",
       "      <td>TTS 2.0T Premium Plus</td>\n",
       "      <td>2012</td>\n",
       "      <td>72,922 mi.</td>\n",
       "      <td>Gasoline</td>\n",
       "      <td>265.0HP 2.0L 4 Cylinder Engine Gasoline Fuel</td>\n",
       "      <td>6-Speed A/T</td>\n",
       "      <td>White</td>\n",
       "      <td>Black</td>\n",
       "      <td>NaN</td>\n",
       "      <td>NaN</td>\n",
       "      <td>$25,999</td>\n",
       "    </tr>\n",
       "    <tr>\n",
       "      <th>...</th>\n",
       "      <td>...</td>\n",
       "      <td>...</td>\n",
       "      <td>...</td>\n",
       "      <td>...</td>\n",
       "      <td>...</td>\n",
       "      <td>...</td>\n",
       "      <td>...</td>\n",
       "      <td>...</td>\n",
       "      <td>...</td>\n",
       "      <td>...</td>\n",
       "      <td>...</td>\n",
       "      <td>...</td>\n",
       "    </tr>\n",
       "    <tr>\n",
       "      <th>3865</th>\n",
       "      <td>Alfa</td>\n",
       "      <td>Romeo Giulia Quadrifoglio</td>\n",
       "      <td>2018</td>\n",
       "      <td>28,644 mi.</td>\n",
       "      <td>Gasoline</td>\n",
       "      <td>505.0HP 2.9L V6 Cylinder Engine Gasoline Fuel</td>\n",
       "      <td>8-Speed A/T</td>\n",
       "      <td>Black</td>\n",
       "      <td>Black</td>\n",
       "      <td>NaN</td>\n",
       "      <td>NaN</td>\n",
       "      <td>$41,500</td>\n",
       "    </tr>\n",
       "    <tr>\n",
       "      <th>3901</th>\n",
       "      <td>Mazda</td>\n",
       "      <td>CX-5 Grand Touring</td>\n",
       "      <td>2021</td>\n",
       "      <td>24,781 mi.</td>\n",
       "      <td>Gasoline</td>\n",
       "      <td>2.5L I4 16V GDI DOHC</td>\n",
       "      <td>6-Speed Automatic</td>\n",
       "      <td>Machine Gray Metallic</td>\n",
       "      <td>Black</td>\n",
       "      <td>NaN</td>\n",
       "      <td>NaN</td>\n",
       "      <td>$28,991</td>\n",
       "    </tr>\n",
       "    <tr>\n",
       "      <th>3918</th>\n",
       "      <td>Porsche</td>\n",
       "      <td>911 Carrera Cabriolet</td>\n",
       "      <td>1996</td>\n",
       "      <td>38,000 mi.</td>\n",
       "      <td>–</td>\n",
       "      <td>–</td>\n",
       "      <td>Transmission w/Dual Shift Mode</td>\n",
       "      <td>Blue</td>\n",
       "      <td>Gray</td>\n",
       "      <td>NaN</td>\n",
       "      <td>NaN</td>\n",
       "      <td>$75,000</td>\n",
       "    </tr>\n",
       "    <tr>\n",
       "      <th>3993</th>\n",
       "      <td>Porsche</td>\n",
       "      <td>911 Carrera S</td>\n",
       "      <td>2021</td>\n",
       "      <td>7,008 mi.</td>\n",
       "      <td>Gasoline</td>\n",
       "      <td>443.0HP 3.0L Flat 6 Cylinder Engine Gasoline Fuel</td>\n",
       "      <td>8-Speed A/T</td>\n",
       "      <td>Gray</td>\n",
       "      <td>Black</td>\n",
       "      <td>NaN</td>\n",
       "      <td>NaN</td>\n",
       "      <td>$151,900</td>\n",
       "    </tr>\n",
       "    <tr>\n",
       "      <th>3996</th>\n",
       "      <td>Aston</td>\n",
       "      <td>Martin DB7 Vantage Volante</td>\n",
       "      <td>2003</td>\n",
       "      <td>14,900 mi.</td>\n",
       "      <td>Gasoline</td>\n",
       "      <td>420.0HP 5.9L 12 Cylinder Engine Gasoline Fuel</td>\n",
       "      <td>6-Speed M/T</td>\n",
       "      <td>White</td>\n",
       "      <td>Beige</td>\n",
       "      <td>NaN</td>\n",
       "      <td>NaN</td>\n",
       "      <td>$32,850</td>\n",
       "    </tr>\n",
       "  </tbody>\n",
       "</table>\n",
       "<p>113 rows × 12 columns</p>\n",
       "</div>"
      ],
      "text/plain": [
       "        brand                       model  model_year       milage fuel_type  \\\n",
       "20    Genesis             GV70 3.5T Sport        2023    5,400 mi.  Gasoline   \n",
       "89     Subaru              Forester 2.5 X        2004  210,703 mi.  Gasoline   \n",
       "128      Audi        Q7 3.0T Premium Plus        2015   98,527 mi.  Gasoline   \n",
       "129     Lucid                    Air Pure        2023    1,300 mi.       NaN   \n",
       "131      Audi       TTS 2.0T Premium Plus        2012   72,922 mi.  Gasoline   \n",
       "...       ...                         ...         ...          ...       ...   \n",
       "3865     Alfa   Romeo Giulia Quadrifoglio        2018   28,644 mi.  Gasoline   \n",
       "3901    Mazda          CX-5 Grand Touring        2021   24,781 mi.  Gasoline   \n",
       "3918  Porsche       911 Carrera Cabriolet        1996   38,000 mi.         –   \n",
       "3993  Porsche               911 Carrera S        2021    7,008 mi.  Gasoline   \n",
       "3996    Aston  Martin DB7 Vantage Volante        2003   14,900 mi.  Gasoline   \n",
       "\n",
       "                                                 engine  \\\n",
       "20        375.0HP 3.5L V6 Cylinder Engine Gasoline Fuel   \n",
       "89         165.0HP 2.5L 4 Cylinder Engine Gasoline Fuel   \n",
       "128       280.0HP 3.0L V6 Cylinder Engine Gasoline Fuel   \n",
       "129         620.0HP Electric Motor Electric Fuel System   \n",
       "131        265.0HP 2.0L 4 Cylinder Engine Gasoline Fuel   \n",
       "...                                                 ...   \n",
       "3865      505.0HP 2.9L V6 Cylinder Engine Gasoline Fuel   \n",
       "3901                               2.5L I4 16V GDI DOHC   \n",
       "3918                                                  –   \n",
       "3993  443.0HP 3.0L Flat 6 Cylinder Engine Gasoline Fuel   \n",
       "3996      420.0HP 5.9L 12 Cylinder Engine Gasoline Fuel   \n",
       "\n",
       "                        transmission                ext_col int_col accident  \\\n",
       "20                       8-Speed A/T                  Green   Beige      NaN   \n",
       "89                               M/T                  Green   Beige      NaN   \n",
       "128                      8-Speed A/T                  Black   Black      NaN   \n",
       "129                              A/T                  Black    Gray      NaN   \n",
       "131                      6-Speed A/T                  White   Black      NaN   \n",
       "...                              ...                    ...     ...      ...   \n",
       "3865                     8-Speed A/T                  Black   Black      NaN   \n",
       "3901               6-Speed Automatic  Machine Gray Metallic   Black      NaN   \n",
       "3918  Transmission w/Dual Shift Mode                   Blue    Gray      NaN   \n",
       "3993                     8-Speed A/T                   Gray   Black      NaN   \n",
       "3996                     6-Speed M/T                  White   Beige      NaN   \n",
       "\n",
       "     clean_title     price  \n",
       "20           NaN   $60,000  \n",
       "89           NaN    $2,300  \n",
       "128          NaN    $9,995  \n",
       "129          NaN   $86,900  \n",
       "131          NaN   $25,999  \n",
       "...          ...       ...  \n",
       "3865         NaN   $41,500  \n",
       "3901         NaN   $28,991  \n",
       "3918         NaN   $75,000  \n",
       "3993         NaN  $151,900  \n",
       "3996         NaN   $32,850  \n",
       "\n",
       "[113 rows x 12 columns]"
      ]
     },
     "execution_count": 232,
     "metadata": {},
     "output_type": "execute_result"
    }
   ],
   "source": [
    "df[df['accident'].isnull()]"
   ]
  },
  {
   "cell_type": "code",
   "execution_count": 233,
   "metadata": {},
   "outputs": [],
   "source": [
    "df['accident'] = df['accident'].fillna(\"none\")"
   ]
  },
  {
   "cell_type": "code",
   "execution_count": 234,
   "metadata": {},
   "outputs": [
    {
     "data": {
      "text/plain": [
       "brand             0\n",
       "model             0\n",
       "model_year        0\n",
       "milage            0\n",
       "fuel_type       170\n",
       "engine            0\n",
       "transmission      0\n",
       "ext_col           0\n",
       "int_col           0\n",
       "accident          0\n",
       "clean_title     596\n",
       "price             0\n",
       "dtype: int64"
      ]
     },
     "execution_count": 234,
     "metadata": {},
     "output_type": "execute_result"
    }
   ],
   "source": [
    "df.isnull().sum()"
   ]
  },
  {
   "cell_type": "code",
   "execution_count": 235,
   "metadata": {},
   "outputs": [],
   "source": [
    "df['clean_title'] = df['clean_title'].fillna('na')"
   ]
  },
  {
   "cell_type": "code",
   "execution_count": 236,
   "metadata": {},
   "outputs": [
    {
     "data": {
      "text/plain": [
       "array(['E85 Flex Fuel', 'Gasoline', 'Hybrid', nan, 'Diesel',\n",
       "       'Plug-In Hybrid', '–', 'not supported'], dtype=object)"
      ]
     },
     "execution_count": 236,
     "metadata": {},
     "output_type": "execute_result"
    }
   ],
   "source": [
    "df['fuel_type'].unique()"
   ]
  },
  {
   "cell_type": "code",
   "execution_count": 237,
   "metadata": {},
   "outputs": [],
   "source": [
    "df['fuel_type'] = df['fuel_type'].fillna(\"unknown\")"
   ]
  },
  {
   "cell_type": "code",
   "execution_count": 238,
   "metadata": {},
   "outputs": [],
   "source": [
    "df['fuel_type'] = df['fuel_type'].str.replace(\"–\", \"unknown\")\n",
    "df['fuel_type'] = df['fuel_type'].str.replace(\"not supported\", \"unknown\")\n",
    "df['fuel_type'] = df['fuel_type'].str.replace(\"Plug-In Hybrid\", \"Hybrid\")\n",
    "df['fuel_type'] = df['fuel_type'].str.replace(\"PlugunknownIn Hybrid\", \"Hybrid\")"
   ]
  },
  {
   "cell_type": "code",
   "execution_count": 239,
   "metadata": {},
   "outputs": [
    {
     "data": {
      "text/plain": [
       "array(['E85 Flex Fuel', 'Gasoline', 'Hybrid', 'unknown', 'Diesel'],\n",
       "      dtype=object)"
      ]
     },
     "execution_count": 239,
     "metadata": {},
     "output_type": "execute_result"
    }
   ],
   "source": [
    "df['fuel_type'].unique()"
   ]
  },
  {
   "cell_type": "code",
   "execution_count": 240,
   "metadata": {},
   "outputs": [
    {
     "data": {
      "text/plain": [
       "fuel_type\n",
       "Gasoline         3309\n",
       "Hybrid            228\n",
       "unknown           217\n",
       "E85 Flex Fuel     139\n",
       "Diesel            116\n",
       "Name: count, dtype: int64"
      ]
     },
     "execution_count": 240,
     "metadata": {},
     "output_type": "execute_result"
    }
   ],
   "source": [
    "df['fuel_type'].value_counts()"
   ]
  },
  {
   "cell_type": "code",
   "execution_count": 241,
   "metadata": {},
   "outputs": [
    {
     "data": {
      "text/plain": [
       "<Axes: xlabel='fuel_type'>"
      ]
     },
     "execution_count": 241,
     "metadata": {},
     "output_type": "execute_result"
    },
    {
     "data": {
      "image/png": "[encoded data removed]",
      "text/plain": [
       "<Figure size 640x480 with 1 Axes>"
      ]
     },
     "metadata": {},
     "output_type": "display_data"
    }
   ],
   "source": [
    "df['fuel_type'].value_counts().plot(kind='bar')"
   ]
  },
  {
   "cell_type": "code",
   "execution_count": 242,
   "metadata": {},
   "outputs": [
    {
     "data": {
      "text/plain": [
       "0"
      ]
     },
     "execution_count": 242,
     "metadata": {},
     "output_type": "execute_result"
    }
   ],
   "source": [
    "df.isnull().sum().sum()"
   ]
  },
  {
   "cell_type": "code",
   "execution_count": 243,
   "metadata": {},
   "outputs": [
    {
     "name": "stdout",
     "output_type": "stream",
     "text": [
      "<class 'pandas.core.frame.DataFrame'>\n",
      "RangeIndex: 4009 entries, 0 to 4008\n",
      "Data columns (total 12 columns):\n",
      " #   Column        Non-Null Count  Dtype \n",
      "---  ------        --------------  ----- \n",
      " 0   brand         4009 non-null   object\n",
      " 1   model         4009 non-null   object\n",
      " 2   model_year    4009 non-null   int64 \n",
      " 3   milage        4009 non-null   object\n",
      " 4   fuel_type     4009 non-null   object\n",
      " 5   engine        4009 non-null   object\n",
      " 6   transmission  4009 non-null   object\n",
      " 7   ext_col       4009 non-null   object\n",
      " 8   int_col       4009 non-null   object\n",
      " 9   accident      4009 non-null   object\n",
      " 10  clean_title   4009 non-null   object\n",
      " 11  price         4009 non-null   object\n",
      "dtypes: int64(1), object(11)\n",
      "memory usage: 376.0+ KB\n"
     ]
    }
   ],
   "source": [
    "df.info()"
   ]
  },
  {
   "cell_type": "code",
   "execution_count": 244,
   "metadata": {},
   "outputs": [
    {
     "data": {
      "text/html": [
       "<div>\n",
       "<style scoped>\n",
       "    .dataframe tbody tr th:only-of-type {\n",
       "        vertical-align: middle;\n",
       "    }\n",
       "\n",
       "    .dataframe tbody tr th {\n",
       "        vertical-align: top;\n",
       "    }\n",
       "\n",
       "    .dataframe thead th {\n",
       "        text-align: right;\n",
       "    }\n",
       "</style>\n",
       "<table border=\"1\" class=\"dataframe\">\n",
       "  <thead>\n",
       "    <tr style=\"text-align: right;\">\n",
       "      <th></th>\n",
       "      <th>brand</th>\n",
       "      <th>model</th>\n",
       "      <th>model_year</th>\n",
       "      <th>milage</th>\n",
       "      <th>fuel_type</th>\n",
       "      <th>engine</th>\n",
       "      <th>transmission</th>\n",
       "      <th>ext_col</th>\n",
       "      <th>int_col</th>\n",
       "      <th>accident</th>\n",
       "      <th>clean_title</th>\n",
       "      <th>price</th>\n",
       "    </tr>\n",
       "  </thead>\n",
       "  <tbody>\n",
       "    <tr>\n",
       "      <th>0</th>\n",
       "      <td>Ford</td>\n",
       "      <td>Utility Police Interceptor Base</td>\n",
       "      <td>2013</td>\n",
       "      <td>51,000 mi.</td>\n",
       "      <td>E85 Flex Fuel</td>\n",
       "      <td>300.0HP 3.7L V6 Cylinder Engine Flex Fuel Capa...</td>\n",
       "      <td>6-Speed A/T</td>\n",
       "      <td>Black</td>\n",
       "      <td>Black</td>\n",
       "      <td>At least 1 accident or damage reported</td>\n",
       "      <td>Yes</td>\n",
       "      <td>$10,300</td>\n",
       "    </tr>\n",
       "    <tr>\n",
       "      <th>1</th>\n",
       "      <td>Hyundai</td>\n",
       "      <td>Palisade SEL</td>\n",
       "      <td>2021</td>\n",
       "      <td>34,742 mi.</td>\n",
       "      <td>Gasoline</td>\n",
       "      <td>3.8L V6 24V GDI DOHC</td>\n",
       "      <td>8-Speed Automatic</td>\n",
       "      <td>Moonlight Cloud</td>\n",
       "      <td>Gray</td>\n",
       "      <td>At least 1 accident or damage reported</td>\n",
       "      <td>Yes</td>\n",
       "      <td>$38,005</td>\n",
       "    </tr>\n",
       "    <tr>\n",
       "      <th>2</th>\n",
       "      <td>Lexus</td>\n",
       "      <td>RX 350 RX 350</td>\n",
       "      <td>2022</td>\n",
       "      <td>22,372 mi.</td>\n",
       "      <td>Gasoline</td>\n",
       "      <td>3.5 Liter DOHC</td>\n",
       "      <td>Automatic</td>\n",
       "      <td>Blue</td>\n",
       "      <td>Black</td>\n",
       "      <td>None reported</td>\n",
       "      <td>na</td>\n",
       "      <td>$54,598</td>\n",
       "    </tr>\n",
       "    <tr>\n",
       "      <th>3</th>\n",
       "      <td>INFINITI</td>\n",
       "      <td>Q50 Hybrid Sport</td>\n",
       "      <td>2015</td>\n",
       "      <td>88,900 mi.</td>\n",
       "      <td>Hybrid</td>\n",
       "      <td>354.0HP 3.5L V6 Cylinder Engine Gas/Electric H...</td>\n",
       "      <td>7-Speed A/T</td>\n",
       "      <td>Black</td>\n",
       "      <td>Black</td>\n",
       "      <td>None reported</td>\n",
       "      <td>Yes</td>\n",
       "      <td>$15,500</td>\n",
       "    </tr>\n",
       "    <tr>\n",
       "      <th>4</th>\n",
       "      <td>Audi</td>\n",
       "      <td>Q3 45 S line Premium Plus</td>\n",
       "      <td>2021</td>\n",
       "      <td>9,835 mi.</td>\n",
       "      <td>Gasoline</td>\n",
       "      <td>2.0L I4 16V GDI DOHC Turbo</td>\n",
       "      <td>8-Speed Automatic</td>\n",
       "      <td>Glacier White Metallic</td>\n",
       "      <td>Black</td>\n",
       "      <td>None reported</td>\n",
       "      <td>na</td>\n",
       "      <td>$34,999</td>\n",
       "    </tr>\n",
       "  </tbody>\n",
       "</table>\n",
       "</div>"
      ],
      "text/plain": [
       "      brand                            model  model_year      milage  \\\n",
       "0      Ford  Utility Police Interceptor Base        2013  51,000 mi.   \n",
       "1   Hyundai                     Palisade SEL        2021  34,742 mi.   \n",
       "2     Lexus                    RX 350 RX 350        2022  22,372 mi.   \n",
       "3  INFINITI                 Q50 Hybrid Sport        2015  88,900 mi.   \n",
       "4      Audi        Q3 45 S line Premium Plus        2021   9,835 mi.   \n",
       "\n",
       "       fuel_type                                             engine  \\\n",
       "0  E85 Flex Fuel  300.0HP 3.7L V6 Cylinder Engine Flex Fuel Capa...   \n",
       "1       Gasoline                               3.8L V6 24V GDI DOHC   \n",
       "2       Gasoline                                     3.5 Liter DOHC   \n",
       "3         Hybrid  354.0HP 3.5L V6 Cylinder Engine Gas/Electric H...   \n",
       "4       Gasoline                         2.0L I4 16V GDI DOHC Turbo   \n",
       "\n",
       "        transmission                 ext_col int_col  \\\n",
       "0        6-Speed A/T                   Black   Black   \n",
       "1  8-Speed Automatic         Moonlight Cloud    Gray   \n",
       "2          Automatic                    Blue   Black   \n",
       "3        7-Speed A/T                   Black   Black   \n",
       "4  8-Speed Automatic  Glacier White Metallic   Black   \n",
       "\n",
       "                                 accident clean_title    price  \n",
       "0  At least 1 accident or damage reported         Yes  $10,300  \n",
       "1  At least 1 accident or damage reported         Yes  $38,005  \n",
       "2                           None reported          na  $54,598  \n",
       "3                           None reported         Yes  $15,500  \n",
       "4                           None reported          na  $34,999  "
      ]
     },
     "execution_count": 244,
     "metadata": {},
     "output_type": "execute_result"
    }
   ],
   "source": [
    "df.head()"
   ]
  },
  {
   "cell_type": "code",
   "execution_count": 245,
   "metadata": {},
   "outputs": [
    {
     "data": {
      "text/plain": [
       "57"
      ]
     },
     "execution_count": 245,
     "metadata": {},
     "output_type": "execute_result"
    }
   ],
   "source": [
    "df['brand'].nunique()"
   ]
  },
  {
   "cell_type": "code",
   "execution_count": 246,
   "metadata": {},
   "outputs": [
    {
     "data": {
      "text/plain": [
       "<Axes: xlabel='brand'>"
      ]
     },
     "execution_count": 246,
     "metadata": {},
     "output_type": "execute_result"
    },
    {
     "data": {
      "image/png": "[encoded data removed]",
      "text/plain": [
       "<Figure size 640x480 with 1 Axes>"
      ]
     },
     "metadata": {},
     "output_type": "display_data"
    }
   ],
   "source": [
    "df['brand'].value_counts().plot(kind='bar')"
   ]
  },
  {
   "cell_type": "code",
   "execution_count": 247,
   "metadata": {},
   "outputs": [],
   "source": [
    "brand_counts = df['brand'].value_counts()\n",
    "brand_counts_less_than_5 = brand_counts[brand_counts < 5].index"
   ]
  },
  {
   "cell_type": "code",
   "execution_count": 248,
   "metadata": {},
   "outputs": [],
   "source": [
    "for i in brand_counts_less_than_5:\n",
    "    df['brand'] = df['brand'].str.replace(i, \"others\")"
   ]
  },
  {
   "cell_type": "code",
   "execution_count": 249,
   "metadata": {},
   "outputs": [
    {
     "data": {
      "text/plain": [
       "array(['Ford', 'Hyundai', 'Lexus', 'INFINITI', 'Audi', 'Acura', 'BMW',\n",
       "       'Tesla', 'Land', 'Aston', 'Toyota', 'Lincoln', 'Jaguar',\n",
       "       'Mercedes-Benz', 'Dodge', 'Nissan', 'Genesis', 'Chevrolet', 'Kia',\n",
       "       'Jeep', 'Bentley', 'Honda', 'others', 'MINI', 'Porsche', 'Hummer',\n",
       "       'Chrysler', 'Volvo', 'Cadillac', 'Lamborghini', 'Maserati',\n",
       "       'Volkswagen', 'Subaru', 'Rivian', 'GMC', 'RAM', 'Alfa', 'Ferrari',\n",
       "       'Scion', 'Mitsubishi', 'Mazda', 'Saturn', 'Rolls-Royce', 'McLaren',\n",
       "       'Buick', 'Pontiac', 'FIAT'], dtype=object)"
      ]
     },
     "execution_count": 249,
     "metadata": {},
     "output_type": "execute_result"
    }
   ],
   "source": [
    "df['brand'].unique()"
   ]
  },
  {
   "cell_type": "code",
   "execution_count": 250,
   "metadata": {},
   "outputs": [
    {
     "data": {
      "text/plain": [
       "<Axes: xlabel='brand'>"
      ]
     },
     "execution_count": 250,
     "metadata": {},
     "output_type": "execute_result"
    },
    {
     "data": {
      "image/png": "[encoded data removed]",
      "text/plain": [
       "<Figure size 640x480 with 1 Axes>"
      ]
     },
     "metadata": {},
     "output_type": "display_data"
    }
   ],
   "source": [
    "df['brand'].value_counts().plot(kind='bar')"
   ]
  },
  {
   "cell_type": "code",
   "execution_count": 251,
   "metadata": {},
   "outputs": [
    {
     "data": {
      "text/html": [
       "<div>\n",
       "<style scoped>\n",
       "    .dataframe tbody tr th:only-of-type {\n",
       "        vertical-align: middle;\n",
       "    }\n",
       "\n",
       "    .dataframe tbody tr th {\n",
       "        vertical-align: top;\n",
       "    }\n",
       "\n",
       "    .dataframe thead th {\n",
       "        text-align: right;\n",
       "    }\n",
       "</style>\n",
       "<table border=\"1\" class=\"dataframe\">\n",
       "  <thead>\n",
       "    <tr style=\"text-align: right;\">\n",
       "      <th></th>\n",
       "      <th>brand</th>\n",
       "      <th>model</th>\n",
       "      <th>model_year</th>\n",
       "      <th>milage</th>\n",
       "      <th>fuel_type</th>\n",
       "      <th>engine</th>\n",
       "      <th>transmission</th>\n",
       "      <th>ext_col</th>\n",
       "      <th>int_col</th>\n",
       "      <th>accident</th>\n",
       "      <th>clean_title</th>\n",
       "      <th>price</th>\n",
       "    </tr>\n",
       "  </thead>\n",
       "  <tbody>\n",
       "    <tr>\n",
       "      <th>0</th>\n",
       "      <td>Ford</td>\n",
       "      <td>Utility Police Interceptor Base</td>\n",
       "      <td>2013</td>\n",
       "      <td>51,000 mi.</td>\n",
       "      <td>E85 Flex Fuel</td>\n",
       "      <td>300.0HP 3.7L V6 Cylinder Engine Flex Fuel Capa...</td>\n",
       "      <td>6-Speed A/T</td>\n",
       "      <td>Black</td>\n",
       "      <td>Black</td>\n",
       "      <td>At least 1 accident or damage reported</td>\n",
       "      <td>Yes</td>\n",
       "      <td>$10,300</td>\n",
       "    </tr>\n",
       "    <tr>\n",
       "      <th>1</th>\n",
       "      <td>Hyundai</td>\n",
       "      <td>Palisade SEL</td>\n",
       "      <td>2021</td>\n",
       "      <td>34,742 mi.</td>\n",
       "      <td>Gasoline</td>\n",
       "      <td>3.8L V6 24V GDI DOHC</td>\n",
       "      <td>8-Speed Automatic</td>\n",
       "      <td>Moonlight Cloud</td>\n",
       "      <td>Gray</td>\n",
       "      <td>At least 1 accident or damage reported</td>\n",
       "      <td>Yes</td>\n",
       "      <td>$38,005</td>\n",
       "    </tr>\n",
       "    <tr>\n",
       "      <th>2</th>\n",
       "      <td>Lexus</td>\n",
       "      <td>RX 350 RX 350</td>\n",
       "      <td>2022</td>\n",
       "      <td>22,372 mi.</td>\n",
       "      <td>Gasoline</td>\n",
       "      <td>3.5 Liter DOHC</td>\n",
       "      <td>Automatic</td>\n",
       "      <td>Blue</td>\n",
       "      <td>Black</td>\n",
       "      <td>None reported</td>\n",
       "      <td>na</td>\n",
       "      <td>$54,598</td>\n",
       "    </tr>\n",
       "    <tr>\n",
       "      <th>3</th>\n",
       "      <td>INFINITI</td>\n",
       "      <td>Q50 Hybrid Sport</td>\n",
       "      <td>2015</td>\n",
       "      <td>88,900 mi.</td>\n",
       "      <td>Hybrid</td>\n",
       "      <td>354.0HP 3.5L V6 Cylinder Engine Gas/Electric H...</td>\n",
       "      <td>7-Speed A/T</td>\n",
       "      <td>Black</td>\n",
       "      <td>Black</td>\n",
       "      <td>None reported</td>\n",
       "      <td>Yes</td>\n",
       "      <td>$15,500</td>\n",
       "    </tr>\n",
       "    <tr>\n",
       "      <th>4</th>\n",
       "      <td>Audi</td>\n",
       "      <td>Q3 45 S line Premium Plus</td>\n",
       "      <td>2021</td>\n",
       "      <td>9,835 mi.</td>\n",
       "      <td>Gasoline</td>\n",
       "      <td>2.0L I4 16V GDI DOHC Turbo</td>\n",
       "      <td>8-Speed Automatic</td>\n",
       "      <td>Glacier White Metallic</td>\n",
       "      <td>Black</td>\n",
       "      <td>None reported</td>\n",
       "      <td>na</td>\n",
       "      <td>$34,999</td>\n",
       "    </tr>\n",
       "  </tbody>\n",
       "</table>\n",
       "</div>"
      ],
      "text/plain": [
       "      brand                            model  model_year      milage  \\\n",
       "0      Ford  Utility Police Interceptor Base        2013  51,000 mi.   \n",
       "1   Hyundai                     Palisade SEL        2021  34,742 mi.   \n",
       "2     Lexus                    RX 350 RX 350        2022  22,372 mi.   \n",
       "3  INFINITI                 Q50 Hybrid Sport        2015  88,900 mi.   \n",
       "4      Audi        Q3 45 S line Premium Plus        2021   9,835 mi.   \n",
       "\n",
       "       fuel_type                                             engine  \\\n",
       "0  E85 Flex Fuel  300.0HP 3.7L V6 Cylinder Engine Flex Fuel Capa...   \n",
       "1       Gasoline                               3.8L V6 24V GDI DOHC   \n",
       "2       Gasoline                                     3.5 Liter DOHC   \n",
       "3         Hybrid  354.0HP 3.5L V6 Cylinder Engine Gas/Electric H...   \n",
       "4       Gasoline                         2.0L I4 16V GDI DOHC Turbo   \n",
       "\n",
       "        transmission                 ext_col int_col  \\\n",
       "0        6-Speed A/T                   Black   Black   \n",
       "1  8-Speed Automatic         Moonlight Cloud    Gray   \n",
       "2          Automatic                    Blue   Black   \n",
       "3        7-Speed A/T                   Black   Black   \n",
       "4  8-Speed Automatic  Glacier White Metallic   Black   \n",
       "\n",
       "                                 accident clean_title    price  \n",
       "0  At least 1 accident or damage reported         Yes  $10,300  \n",
       "1  At least 1 accident or damage reported         Yes  $38,005  \n",
       "2                           None reported          na  $54,598  \n",
       "3                           None reported         Yes  $15,500  \n",
       "4                           None reported          na  $34,999  "
      ]
     },
     "execution_count": 251,
     "metadata": {},
     "output_type": "execute_result"
    }
   ],
   "source": [
    "df.head()"
   ]
  },
  {
   "cell_type": "code",
   "execution_count": null,
   "metadata": {},
   "outputs": [],
   "source": []
  },
  {
   "cell_type": "code",
   "execution_count": null,
   "metadata": {},
   "outputs": [],
   "source": []
  },
  {
   "cell_type": "code",
   "execution_count": null,
   "metadata": {},
   "outputs": [],
   "source": []
  },
  {
   "cell_type": "code",
   "execution_count": null,
   "metadata": {},
   "outputs": [],
   "source": []
  },
  {
   "cell_type": "code",
   "execution_count": null,
   "metadata": {},
   "outputs": [],
   "source": []
  },
  {
   "cell_type": "code",
   "execution_count": null,
   "metadata": {},
   "outputs": [],
   "source": []
  },
  {
   "cell_type": "code",
   "execution_count": null,
   "metadata": {},
   "outputs": [],
   "source": []
  },
  {
   "cell_type": "code",
   "execution_count": null,
   "metadata": {},
   "outputs": [],
   "source": []
  },
  {
   "cell_type": "code",
   "execution_count": null,
   "metadata": {},
   "outputs": [],
   "source": []
  },
  {
   "cell_type": "code",
   "execution_count": null,
   "metadata": {},
   "outputs": [],
   "source": []
  },
  {
   "cell_type": "code",
   "execution_count": null,
   "metadata": {},
   "outputs": [],
   "source": []
  },
  {
   "cell_type": "code",
   "execution_count": null,
   "metadata": {},
   "outputs": [],
   "source": []
  },
  {
   "cell_type": "code",
   "execution_count": null,
   "metadata": {},
   "outputs": [],
   "source": []
  },
  {
   "cell_type": "code",
   "execution_count": null,
   "metadata": {},
   "outputs": [],
   "source": []
  },
  {
   "cell_type": "code",
   "execution_count": null,
   "metadata": {},
   "outputs": [],
   "source": []
  },
  {
   "cell_type": "code",
   "execution_count": null,
   "metadata": {},
   "outputs": [],
   "source": []
  },
  {
   "cell_type": "code",
   "execution_count": null,
   "metadata": {},
   "outputs": [],
   "source": []
  },
  {
   "cell_type": "code",
   "execution_count": null,
   "metadata": {},
   "outputs": [],
   "source": []
  },
  {
   "cell_type": "code",
   "execution_count": null,
   "metadata": {},
   "outputs": [],
   "source": []
  },
  {
   "cell_type": "code",
   "execution_count": null,
   "metadata": {},
   "outputs": [],
   "source": []
  },
  {
   "cell_type": "code",
   "execution_count": null,
   "metadata": {},
   "outputs": [],
   "source": []
  },
  {
   "cell_type": "code",
   "execution_count": null,
   "metadata": {},
   "outputs": [],
   "source": []
  },
  {
   "cell_type": "code",
   "execution_count": null,
   "metadata": {},
   "outputs": [],
   "source": []
  },
  {
   "cell_type": "code",
   "execution_count": null,
   "metadata": {},
   "outputs": [],
   "source": []
  },
  {
   "cell_type": "code",
   "execution_count": null,
   "metadata": {},
   "outputs": [],
   "source": []
  }
 ],
 "metadata": {
  "kernelspec": {
   "display_name": "ml",
   "language": "python",
   "name": "python3"
  },
  "language_info": {
   "codemirror_mode": {
    "name": "ipython",
    "version": 3
   },
   "file_extension": ".py",
   "mimetype": "text/x-python",
   "name": "python",
   "nbconvert_exporter": "python",
   "pygments_lexer": "ipython3",
   "version": "3.12.4"
  }
 },
 "nbformat": 4,
 "nbformat_minor": 2
}
